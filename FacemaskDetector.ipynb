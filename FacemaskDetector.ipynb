{
 "cells": [
  {
   "cell_type": "code",
   "execution_count": 12,
   "metadata": {},
   "outputs": [],
   "source": [
    "import cv2 as cv\n",
    "from imageai.Detection import ObjectDetection as od\n",
    "\n",
    "import numpy as np\n",
    "import requests as req\n",
    "import os as os\n",
    "import os.path\n",
    "from os import path"
   ]
  },
  {
   "cell_type": "code",
   "execution_count": 2,
   "metadata": {},
   "outputs": [],
   "source": [
    "def showImage(img):\n",
    "    window_name = 'image'\n",
    "    cv.imshow(window_name, img)\n",
    "    cv.waitKey(0)\n",
    "    cv.destroyAllWindows()"
   ]
  },
  {
   "cell_type": "code",
   "execution_count": 5,
   "metadata": {},
   "outputs": [],
   "source": [
    "#Creates two directories\n",
    "if not os.path.exists('images'):\n",
    "    os.makedirs('images')\n",
    "if not os.path.exists('annotations'):\n",
    "    os.makedirs('annotations')\n",
    "    \n",
    "#IMPORTANT: At this point, put the training images and \n",
    "#  the corresponding .xml annotations in the \"images/\" and \"annotations/\" directories respectively"
   ]
  },
  {
   "cell_type": "code",
   "execution_count": 7,
   "metadata": {},
   "outputs": [],
   "source": [
    "#Creates folders for training and validation images\n",
    "if not os.path.exists('images/train'):\n",
    "    os.makedirs('images/train')\n",
    "if not os.path.exists('images/validation'):\n",
    "    os.makedirs('images/validation')"
   ]
  },
  {
   "cell_type": "code",
   "execution_count": 13,
   "metadata": {},
   "outputs": [],
   "source": [
    "#Splits training data in the \"images/\" directory to a training folder and a validation folder\n",
    "images = os.listdir(\"images\")\n",
    "imagesLen = round(len(images) * 0.90)\n",
    "\n",
    "#Moves 90% of the images into the training directory\n",
    "for i in range(0, imagesLen): \n",
    "    fileName = \"images/\" + images[i]\n",
    "    if os.path.isfile(fileName):\n",
    "        os.rename(fileName, \"images/train/\" + images[i])\n",
    "        \n",
    "images = os.listdir(\"images\")\n",
    "\n",
    "for i in images:\n",
    "    if path.isfile(i):\n",
    "        fileName = \"images/\" + i\n",
    "        os.rename(fileName, \"images/validation/\" + i)\n",
    "    "
   ]
  },
  {
   "cell_type": "code",
   "execution_count": null,
   "metadata": {},
   "outputs": [],
   "source": []
  }
 ],
 "metadata": {
  "kernelspec": {
   "display_name": "Python 3",
   "language": "python",
   "name": "python3"
  },
  "language_info": {
   "codemirror_mode": {
    "name": "ipython",
    "version": 3
   },
   "file_extension": ".py",
   "mimetype": "text/x-python",
   "name": "python",
   "nbconvert_exporter": "python",
   "pygments_lexer": "ipython3",
   "version": "3.7.1"
  }
 },
 "nbformat": 4,
 "nbformat_minor": 4
}
