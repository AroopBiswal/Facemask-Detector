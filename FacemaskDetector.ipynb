{
 "cells": [
  {
   "cell_type": "code",
   "execution_count": 1,
   "metadata": {},
   "outputs": [],
   "source": [
    "import cv2 as cv\n",
    "from imageai.Detection import ObjectDetection as od\n",
    "\n",
    "import numpy as np\n",
    "import requests as req\n",
    "import os as os\n",
    "import os.path\n",
    "from os import path\n",
    "\n",
    "imageExt = \".png\"  #Set to image type used for dataset"
   ]
  },
  {
   "cell_type": "code",
   "execution_count": 2,
   "metadata": {},
   "outputs": [],
   "source": [
    "def showImage(img):\n",
    "    window_name = 'image'\n",
    "    cv.imshow(window_name, img)\n",
    "    cv.waitKey(0)\n",
    "    cv.destroyAllWindows()"
   ]
  },
  {
   "cell_type": "code",
   "execution_count": 3,
   "metadata": {},
   "outputs": [],
   "source": [
    "#Creates three directories\n",
    "if not os.path.exists('images'):\n",
    "    os.makedirs('images')\n",
    "if not os.path.exists('annotations'):\n",
    "    os.makedirs('annotations')\n",
    "if not os.path.exists('data'):\n",
    "    os.makedirs('data')\n",
    "    \n",
    "#IMPORTANT: At this point, put the training images and \n",
    "#the corresponding .xml annotations in the \"images/\" and \"annotations/\" directories respectively"
   ]
  },
  {
   "cell_type": "code",
   "execution_count": 4,
   "metadata": {},
   "outputs": [],
   "source": [
    "#Creates folders for training and validation images\n",
    "if not os.path.exists('data/train/images'):\n",
    "    os.makedirs('data/train/images')\n",
    "if not os.path.exists('data/train/annotations'):\n",
    "    os.makedirs('data/train/annotations')\n",
    "if not os.path.exists('data/validation/images'):\n",
    "    os.makedirs('data/validation/images')\n",
    "if not os.path.exists('data/validation/annotations'):\n",
    "    os.makedirs('data/validation/annotations')"
   ]
  },
  {
   "cell_type": "code",
   "execution_count": 5,
   "metadata": {},
   "outputs": [],
   "source": [
    "#Splits training data in the \"images/\" directory to a training folder and a validation folder\n",
    "images = os.listdir(\"images\")\n",
    "imagesLen = round(len(images) * 0.90)\n",
    "# print(imagesLen)\n",
    "\n",
    "#Moves 90% of the images into the training directory\n",
    "for i in range(0, imagesLen): \n",
    "    fileNameImg = \"images/\" + images[i]\n",
    "    fileNameAnnot = \"annotations/\" + images[i]\n",
    "    fileNameAnnot = fileNameAnnot.replace(imageExt, \".xml\")\n",
    "    if os.path.isfile(fileNameImg):\n",
    "        os.rename(fileNameImg, \"data/train/images/\" + images[i])\n",
    "        os.rename(fileNameAnnot, \"data/train/annotations/\" + images[i].replace(imageExt, \".xml\"))\n",
    "        \n",
    "images = os.listdir(\"images\")\n",
    "\n",
    "#Moves remaining training data into the validation directory\n",
    "for i in images:\n",
    "    fileNameImg = \"images/\" + i\n",
    "    fileNameAnnot = \"annotations/\" + i\n",
    "    fileNameAnnot = fileNameAnnot.replace(imageExt, \".xml\")\n",
    "    if path.isfile(fileNameImg):\n",
    "        os.rename(fileNameImg, \"data/validation/images/\" + i)\n",
    "        os.rename(fileNameAnnot, \"data/validation/annotations/\" + i.replace(imageExt, \".xml\"))\n",
    "        \n",
    "\n",
    "    "
   ]
  },
  {
   "cell_type": "code",
   "execution_count": null,
   "metadata": {},
   "outputs": [],
   "source": [
    "from imageai.Detection.Custom import DetectionModelTrainer\n",
    "trainer = DetectionModelTrainer()\n",
    "trainer.setModelTypeAsYOLOv3()\n",
    "trainer.setDataDirectory(data_directory=\"images\")\n",
    "\n",
    "trainer.setTrainConfig(object_names_array=[\"person hardhat\"], batch_size=4, num_experiments=20, \n",
    "                       train_from_pretrained_model=\"yolo.h5\")\n",
    "\n",
    "trainer.trainModel()"
   ]
  },
  {
   "cell_type": "code",
   "execution_count": null,
   "metadata": {},
   "outputs": [],
   "source": []
  },
  {
   "cell_type": "code",
   "execution_count": null,
   "metadata": {},
   "outputs": [],
   "source": []
  }
 ],
 "metadata": {
  "kernelspec": {
   "display_name": "Python 3",
   "language": "python",
   "name": "python3"
  },
  "language_info": {
   "codemirror_mode": {
    "name": "ipython",
    "version": 3
   },
   "file_extension": ".py",
   "mimetype": "text/x-python",
   "name": "python",
   "nbconvert_exporter": "python",
   "pygments_lexer": "ipython3",
   "version": "3.7.1"
  }
 },
 "nbformat": 4,
 "nbformat_minor": 4
}
